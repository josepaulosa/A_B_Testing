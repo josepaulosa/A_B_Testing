{
 "cells": [
  {
   "cell_type": "markdown",
   "metadata": {
    "id": "S5Sb62h2-0Ii"
   },
   "source": [
    "## **A/B Testing**<br>\n",
    "- - - "
   ]
  },
  {
   "cell_type": "markdown",
   "metadata": {},
   "source": [
    "#### **Info on datasets**:\n",
    "You can find the dataset &rarr; [here](https://www.kaggle.com/datasets/zhangluyuan/ab-testing?select=ab_data.csv).\n",
    "- The dataset contains information about almost 300K users that were involved in a A/B test. It is an **`unpaired`** dataset\n",
    "- Features:\n",
    "    - user_id: unique identifier for each user.\n",
    "    - timestamp: associated date and time for each visit to the website by a given user.\n",
    "    - group: the category a user was grouped into pre-A/B test (control or treatment groups).\n",
    "    - landing_page: the page that was displayed to a user when they visited the company website (new_page or old_page).\n",
    "    - converted: whether a user converted or not (0 or 1); Note: Users in the control group ought to be displayed the old page, while those in the treatment group ought to see the new page.\n",
    "    - - - "
   ]
  },
  {
   "cell_type": "markdown",
   "metadata": {
    "id": "-g38SOiZkhcl"
   },
   "source": [
    "###  &rarr; **Preprocessing data** \n",
    "- Note: **unpaired dataset**.<br>\n"
   ]
  },
  {
   "cell_type": "markdown",
   "metadata": {
    "id": "mQWQlV5iV8kr"
   },
   "source": [
    "#### **Importing libraries**:"
   ]
  },
  {
   "cell_type": "code",
   "execution_count": 1,
   "metadata": {
    "colab": {
     "base_uri": "https://localhost:8080/"
    },
    "id": "GksvHBPmvl8S",
    "outputId": "dab7819a-e862-4b52-ddc7-f62f7fef0802"
   },
   "outputs": [],
   "source": [
    "import numpy as np\n",
    "import pandas as pd\n",
    "import scipy.stats as stats\n",
    "import statsmodels.stats.api as sms\n",
    "from statsmodels.stats.proportion import proportions_ztest\n",
    "import warnings\n",
    "warnings.filterwarnings(\"ignore\", category=DeprecationWarning) "
   ]
  },
  {
   "cell_type": "markdown",
   "metadata": {
    "id": "ei0F8AoCIiZ_"
   },
   "source": [
    "#### **Read the dataset**:"
   ]
  },
  {
   "cell_type": "code",
   "execution_count": 2,
   "metadata": {
    "colab": {
     "base_uri": "https://localhost:8080/",
     "height": 206
    },
    "id": "f6pPoXCS1jbA",
    "outputId": "3f05bfad-b8b4-4af9-cc6c-ba02fd29f3c9"
   },
   "outputs": [
    {
     "data": {
      "text/html": [
       "<div>\n",
       "<style scoped>\n",
       "    .dataframe tbody tr th:only-of-type {\n",
       "        vertical-align: middle;\n",
       "    }\n",
       "\n",
       "    .dataframe tbody tr th {\n",
       "        vertical-align: top;\n",
       "    }\n",
       "\n",
       "    .dataframe thead th {\n",
       "        text-align: right;\n",
       "    }\n",
       "</style>\n",
       "<table border=\"1\" class=\"dataframe\">\n",
       "  <thead>\n",
       "    <tr style=\"text-align: right;\">\n",
       "      <th></th>\n",
       "      <th>user_id</th>\n",
       "      <th>timestamp</th>\n",
       "      <th>group</th>\n",
       "      <th>landing_page</th>\n",
       "      <th>converted</th>\n",
       "    </tr>\n",
       "  </thead>\n",
       "  <tbody>\n",
       "    <tr>\n",
       "      <th>0</th>\n",
       "      <td>851104</td>\n",
       "      <td>2017-01-21 22:11:48.556739</td>\n",
       "      <td>control</td>\n",
       "      <td>old_page</td>\n",
       "      <td>0</td>\n",
       "    </tr>\n",
       "    <tr>\n",
       "      <th>1</th>\n",
       "      <td>804228</td>\n",
       "      <td>2017-01-12 08:01:45.159739</td>\n",
       "      <td>control</td>\n",
       "      <td>old_page</td>\n",
       "      <td>0</td>\n",
       "    </tr>\n",
       "    <tr>\n",
       "      <th>2</th>\n",
       "      <td>661590</td>\n",
       "      <td>2017-01-11 16:55:06.154213</td>\n",
       "      <td>treatment</td>\n",
       "      <td>new_page</td>\n",
       "      <td>0</td>\n",
       "    </tr>\n",
       "    <tr>\n",
       "      <th>3</th>\n",
       "      <td>853541</td>\n",
       "      <td>2017-01-08 18:28:03.143765</td>\n",
       "      <td>treatment</td>\n",
       "      <td>new_page</td>\n",
       "      <td>0</td>\n",
       "    </tr>\n",
       "    <tr>\n",
       "      <th>4</th>\n",
       "      <td>864975</td>\n",
       "      <td>2017-01-21 01:52:26.210827</td>\n",
       "      <td>control</td>\n",
       "      <td>old_page</td>\n",
       "      <td>1</td>\n",
       "    </tr>\n",
       "  </tbody>\n",
       "</table>\n",
       "</div>"
      ],
      "text/plain": [
       "   user_id                   timestamp      group landing_page  converted\n",
       "0   851104  2017-01-21 22:11:48.556739    control     old_page          0\n",
       "1   804228  2017-01-12 08:01:45.159739    control     old_page          0\n",
       "2   661590  2017-01-11 16:55:06.154213  treatment     new_page          0\n",
       "3   853541  2017-01-08 18:28:03.143765  treatment     new_page          0\n",
       "4   864975  2017-01-21 01:52:26.210827    control     old_page          1"
      ]
     },
     "execution_count": 2,
     "metadata": {},
     "output_type": "execute_result"
    }
   ],
   "source": [
    "df = pd.read_csv('s3://demo-sagemaker-bucket-2222/ab_data.csv', sep=\",\", header=0)\n",
    "\n",
    "df.head()"
   ]
  },
  {
   "cell_type": "code",
   "execution_count": 3,
   "metadata": {},
   "outputs": [
    {
     "data": {
      "text/plain": [
       "(294478, 5)"
      ]
     },
     "execution_count": 3,
     "metadata": {},
     "output_type": "execute_result"
    }
   ],
   "source": [
    "df.shape"
   ]
  },
  {
   "cell_type": "markdown",
   "metadata": {
    "id": "RxBEuC3uItze"
   },
   "source": [
    "#### **To make sure the whole control group is seeing the old page and the whole treatment group is seeing the new page**:"
   ]
  },
  {
   "cell_type": "code",
   "execution_count": 4,
   "metadata": {
    "id": "CV0XSrMygj4m"
   },
   "outputs": [],
   "source": [
    "indexes_1 = df[ (df['group'] == 'control') & (df['landing_page'] == 'new_page') ].index\n",
    " \n",
    "df.drop(indexes_1,inplace=True)"
   ]
  },
  {
   "cell_type": "code",
   "execution_count": 5,
   "metadata": {
    "id": "9lHfGGmDgv-Q"
   },
   "outputs": [],
   "source": [
    "indexes_2 = df[ (df['group'] == 'treatment') & (df['landing_page'] == 'old_page') ].index\n",
    " \n",
    "df.drop(indexes_2,inplace=True)"
   ]
  },
  {
   "cell_type": "code",
   "execution_count": 6,
   "metadata": {},
   "outputs": [
    {
     "data": {
      "text/plain": [
       "(290585, 5)"
      ]
     },
     "execution_count": 6,
     "metadata": {},
     "output_type": "execute_result"
    }
   ],
   "source": [
    "df.shape"
   ]
  },
  {
   "cell_type": "markdown",
   "metadata": {},
   "source": [
    "- **Note**: **3893** times that either old_page and control or new_page and treatment are **not aligned**"
   ]
  },
  {
   "cell_type": "markdown",
   "metadata": {
    "id": "lOwlskH0JSsD"
   },
   "source": [
    "#### **Remove the one duplicated `user_id`**:"
   ]
  },
  {
   "cell_type": "code",
   "execution_count": 7,
   "metadata": {},
   "outputs": [
    {
     "data": {
      "text/plain": [
       "290584"
      ]
     },
     "execution_count": 7,
     "metadata": {},
     "output_type": "execute_result"
    }
   ],
   "source": [
    "df.user_id.nunique()"
   ]
  },
  {
   "cell_type": "code",
   "execution_count": 8,
   "metadata": {
    "id": "2heLUd2EnWsM"
   },
   "outputs": [],
   "source": [
    "df.drop_duplicates(subset='user_id', inplace=True)"
   ]
  },
  {
   "cell_type": "code",
   "execution_count": 9,
   "metadata": {
    "colab": {
     "base_uri": "https://localhost:8080/"
    },
    "id": "1fODUPRMnlPX",
    "outputId": "3948e01d-2281-4b9c-ce2d-335fb534ecc2"
   },
   "outputs": [
    {
     "data": {
      "text/plain": [
       "290584"
      ]
     },
     "execution_count": 9,
     "metadata": {},
     "output_type": "execute_result"
    }
   ],
   "source": [
    "len(df)"
   ]
  },
  {
   "cell_type": "code",
   "execution_count": 10,
   "metadata": {
    "colab": {
     "base_uri": "https://localhost:8080/",
     "height": 424
    },
    "id": "7IG_fWIGe9DW",
    "outputId": "30f02867-5c7a-4214-bbc3-b74a3897ff8c"
   },
   "outputs": [
    {
     "data": {
      "text/html": [
       "<div>\n",
       "<style scoped>\n",
       "    .dataframe tbody tr th:only-of-type {\n",
       "        vertical-align: middle;\n",
       "    }\n",
       "\n",
       "    .dataframe tbody tr th {\n",
       "        vertical-align: top;\n",
       "    }\n",
       "\n",
       "    .dataframe thead th {\n",
       "        text-align: right;\n",
       "    }\n",
       "</style>\n",
       "<table border=\"1\" class=\"dataframe\">\n",
       "  <thead>\n",
       "    <tr style=\"text-align: right;\">\n",
       "      <th></th>\n",
       "      <th>user_id</th>\n",
       "      <th>timestamp</th>\n",
       "      <th>group</th>\n",
       "      <th>landing_page</th>\n",
       "      <th>converted</th>\n",
       "    </tr>\n",
       "  </thead>\n",
       "  <tbody>\n",
       "    <tr>\n",
       "      <th>0</th>\n",
       "      <td>851104</td>\n",
       "      <td>2017-01-21 22:11:48.556739</td>\n",
       "      <td>control</td>\n",
       "      <td>old_page</td>\n",
       "      <td>0</td>\n",
       "    </tr>\n",
       "    <tr>\n",
       "      <th>1</th>\n",
       "      <td>804228</td>\n",
       "      <td>2017-01-12 08:01:45.159739</td>\n",
       "      <td>control</td>\n",
       "      <td>old_page</td>\n",
       "      <td>0</td>\n",
       "    </tr>\n",
       "    <tr>\n",
       "      <th>2</th>\n",
       "      <td>661590</td>\n",
       "      <td>2017-01-11 16:55:06.154213</td>\n",
       "      <td>treatment</td>\n",
       "      <td>new_page</td>\n",
       "      <td>0</td>\n",
       "    </tr>\n",
       "    <tr>\n",
       "      <th>3</th>\n",
       "      <td>853541</td>\n",
       "      <td>2017-01-08 18:28:03.143765</td>\n",
       "      <td>treatment</td>\n",
       "      <td>new_page</td>\n",
       "      <td>0</td>\n",
       "    </tr>\n",
       "    <tr>\n",
       "      <th>4</th>\n",
       "      <td>864975</td>\n",
       "      <td>2017-01-21 01:52:26.210827</td>\n",
       "      <td>control</td>\n",
       "      <td>old_page</td>\n",
       "      <td>1</td>\n",
       "    </tr>\n",
       "    <tr>\n",
       "      <th>...</th>\n",
       "      <td>...</td>\n",
       "      <td>...</td>\n",
       "      <td>...</td>\n",
       "      <td>...</td>\n",
       "      <td>...</td>\n",
       "    </tr>\n",
       "    <tr>\n",
       "      <th>290579</th>\n",
       "      <td>751197</td>\n",
       "      <td>2017-01-03 22:28:38.630509</td>\n",
       "      <td>control</td>\n",
       "      <td>old_page</td>\n",
       "      <td>0</td>\n",
       "    </tr>\n",
       "    <tr>\n",
       "      <th>290580</th>\n",
       "      <td>945152</td>\n",
       "      <td>2017-01-12 00:51:57.078372</td>\n",
       "      <td>control</td>\n",
       "      <td>old_page</td>\n",
       "      <td>0</td>\n",
       "    </tr>\n",
       "    <tr>\n",
       "      <th>290581</th>\n",
       "      <td>734608</td>\n",
       "      <td>2017-01-22 11:45:03.439544</td>\n",
       "      <td>control</td>\n",
       "      <td>old_page</td>\n",
       "      <td>0</td>\n",
       "    </tr>\n",
       "    <tr>\n",
       "      <th>290582</th>\n",
       "      <td>697314</td>\n",
       "      <td>2017-01-15 01:20:28.957438</td>\n",
       "      <td>control</td>\n",
       "      <td>old_page</td>\n",
       "      <td>0</td>\n",
       "    </tr>\n",
       "    <tr>\n",
       "      <th>290583</th>\n",
       "      <td>715931</td>\n",
       "      <td>2017-01-16 12:40:24.467417</td>\n",
       "      <td>treatment</td>\n",
       "      <td>new_page</td>\n",
       "      <td>0</td>\n",
       "    </tr>\n",
       "  </tbody>\n",
       "</table>\n",
       "<p>290584 rows × 5 columns</p>\n",
       "</div>"
      ],
      "text/plain": [
       "        user_id                   timestamp      group landing_page  converted\n",
       "0        851104  2017-01-21 22:11:48.556739    control     old_page          0\n",
       "1        804228  2017-01-12 08:01:45.159739    control     old_page          0\n",
       "2        661590  2017-01-11 16:55:06.154213  treatment     new_page          0\n",
       "3        853541  2017-01-08 18:28:03.143765  treatment     new_page          0\n",
       "4        864975  2017-01-21 01:52:26.210827    control     old_page          1\n",
       "...         ...                         ...        ...          ...        ...\n",
       "290579   751197  2017-01-03 22:28:38.630509    control     old_page          0\n",
       "290580   945152  2017-01-12 00:51:57.078372    control     old_page          0\n",
       "290581   734608  2017-01-22 11:45:03.439544    control     old_page          0\n",
       "290582   697314  2017-01-15 01:20:28.957438    control     old_page          0\n",
       "290583   715931  2017-01-16 12:40:24.467417  treatment     new_page          0\n",
       "\n",
       "[290584 rows x 5 columns]"
      ]
     },
     "execution_count": 10,
     "metadata": {},
     "output_type": "execute_result"
    }
   ],
   "source": [
    "df.reset_index(drop=True, inplace=True)\n",
    "df"
   ]
  },
  {
   "cell_type": "markdown",
   "metadata": {
    "id": "AOjcSEimKc5w"
   },
   "source": [
    "- - - "
   ]
  },
  {
   "cell_type": "markdown",
   "metadata": {
    "id": "cblTueW0k1z6"
   },
   "source": [
    "###  &rarr; **Two proportions z-test** <br>\n"
   ]
  },
  {
   "cell_type": "markdown",
   "metadata": {
    "id": "93iKMuuf8Q2V"
   },
   "source": [
    "### **`Assumptions`**:\n",
    "- The data are simple **random values** from **both populations**.\n",
    "- Samples are **independent** of each other.\n",
    "- Sample **sizes** are **large enough to be approximately normally distributed**. A good **rule of thumb** is that, given the **sample sizes** ***$n_{1}$*** and ***$n_{2}$*** and given the **samples proportions** of ***$p_{1}$*** and ***$p_{2}$*** then **all of the below must be at least 10**:\n",
    "  > - ***$n_{1}$*** *   ***$p_{1}$***\n",
    "  - ***$n_{1}$*** *    ***$(1 - p_{1})$***\n",
    "  - ***$n_{2}$*** *   ***$p_{2}$***\n",
    "  - ***$n_{2}$*** *    ***$(1 - p_{2})$***\n",
    "<br>\n"
   ]
  },
  {
   "cell_type": "markdown",
   "metadata": {
    "id": "5Qt_Xpzn8nz8"
   },
   "source": [
    "### **`Hypothesis`**:\n",
    "- **Null hypothesis**: The difference between population proportions of conversion is equal to zero &rarr; ***$H_{0}$***: **prop_c = prop_t**\n",
    "\n",
    "- **Alternative hypothesis**: The difference between population proportions of conversion is different from zero &rarr; ***$H_{1}$***: **prop_c ≠ prop_t** (two -tailed) \n",
    "- **prop_c** and **prop_t** stand for the **conversion rate** of the **control** and **treatment populations**, respectively.\n",
    "- - - \n",
    "<br>\n",
    "\n"
   ]
  },
  {
   "cell_type": "markdown",
   "metadata": {
    "id": "2rh1dxomther"
   },
   "source": [
    "#### Some **previous calculations** for **computing z-statistic**:"
   ]
  },
  {
   "cell_type": "code",
   "execution_count": 11,
   "metadata": {
    "colab": {
     "base_uri": "https://localhost:8080/"
    },
    "id": "Ydl7kDvzsmn0",
    "outputId": "dd03f151-1bf1-406e-d73b-91ec57dba14e"
   },
   "outputs": [
    {
     "name": "stdout",
     "output_type": "stream",
     "text": [
      "Proportion of users converted in the control group :  0.1203863045004612\n"
     ]
    }
   ],
   "source": [
    "prop_c=df.query(\"group=='control'\")['converted'].mean()\n",
    "print('Proportion of users converted in the control group : ',prop_c)"
   ]
  },
  {
   "cell_type": "code",
   "execution_count": 12,
   "metadata": {
    "colab": {
     "base_uri": "https://localhost:8080/"
    },
    "id": "DbsZFsw6smz_",
    "outputId": "5078de0a-1b19-426e-c026-e471ace85c57"
   },
   "outputs": [
    {
     "name": "stdout",
     "output_type": "stream",
     "text": [
      "Proportion of users converted in the treatment group :  0.11880806551510564\n"
     ]
    }
   ],
   "source": [
    "prop_t=df.query(\"group=='treatment'\")['converted'].mean()\n",
    "print('Proportion of users converted in the treatment group : ',prop_t)"
   ]
  },
  {
   "cell_type": "code",
   "execution_count": 13,
   "metadata": {
    "colab": {
     "base_uri": "https://localhost:8080/"
    },
    "id": "Q3tFwyyOsm7Q",
    "outputId": "f21158a0-d6e6-4c65-fe01-adfd84d1b767"
   },
   "outputs": [
    {
     "data": {
      "text/plain": [
       "145274"
      ]
     },
     "execution_count": 13,
     "metadata": {},
     "output_type": "execute_result"
    }
   ],
   "source": [
    "num_control=len(df.query(\"group=='control'\"))\n",
    "num_control"
   ]
  },
  {
   "cell_type": "code",
   "execution_count": 14,
   "metadata": {
    "colab": {
     "base_uri": "https://localhost:8080/"
    },
    "id": "dKvp-_LSsnBm",
    "outputId": "35c9a358-7136-4185-e2cb-c27dac1f84f2"
   },
   "outputs": [
    {
     "data": {
      "text/plain": [
       "145310"
      ]
     },
     "execution_count": 14,
     "metadata": {},
     "output_type": "execute_result"
    }
   ],
   "source": [
    "num_treat=len(df.query(\"group=='treatment'\"))\n",
    "num_treat"
   ]
  },
  {
   "cell_type": "markdown",
   "metadata": {
    "id": "8hGFnXjBhvED"
   },
   "source": [
    "\n",
    "- **Calculate the pooled sample proportion**:\n",
    "\n"
   ]
  },
  {
   "cell_type": "code",
   "execution_count": 15,
   "metadata": {
    "colab": {
     "base_uri": "https://localhost:8080/"
    },
    "id": "Yn1GwsboAaQK",
    "outputId": "8bb54968-613e-4f1b-e754-a4f61dd3f7e0"
   },
   "outputs": [
    {
     "name": "stdout",
     "output_type": "stream",
     "text": [
      "Pooloed sample proportion:  0.11959708724499628\n"
     ]
    }
   ],
   "source": [
    "p = df.converted.mean()\n",
    "print('Pooloed sample proportion: ', p)"
   ]
  },
  {
   "cell_type": "markdown",
   "metadata": {
    "id": "CEWxN2fxgKPf"
   },
   "source": [
    "##### **<center>or</center>**"
   ]
  },
  {
   "cell_type": "code",
   "execution_count": 16,
   "metadata": {
    "colab": {
     "base_uri": "https://localhost:8080/"
    },
    "id": "He9Wo5MygY_p",
    "outputId": "088d66e6-b3ee-46f3-8e9f-122246254814"
   },
   "outputs": [
    {
     "name": "stdout",
     "output_type": "stream",
     "text": [
      "p = 0.11959708724499628\n"
     ]
    }
   ],
   "source": [
    "p = (prop_c * num_control + prop_t * num_treat) / (num_control + num_treat)\n",
    "print(f'p = {p:.17f}')"
   ]
  },
  {
   "cell_type": "markdown",
   "metadata": {},
   "source": [
    "- - - "
   ]
  },
  {
   "cell_type": "markdown",
   "metadata": {
    "id": "3GVF6ac87Oxy"
   },
   "source": [
    "### &rarr; **Compute `critical z‐value`** and **`z-statistic`**:<br>"
   ]
  },
  {
   "cell_type": "markdown",
   "metadata": {
    "id": "hXyvLM_6_MS3"
   },
   "source": [
    "#### **1. Critical z-value**:"
   ]
  },
  {
   "cell_type": "code",
   "execution_count": 17,
   "metadata": {
    "colab": {
     "base_uri": "https://localhost:8080/"
    },
    "id": "I3xiOipp_SXT",
    "outputId": "34405676-4d90-40aa-9f6a-5425fa593881"
   },
   "outputs": [
    {
     "name": "stdout",
     "output_type": "stream",
     "text": [
      "Critical z-value = 1.9599639845400540\n",
      "\n"
     ]
    }
   ],
   "source": [
    "alpha=0.05\n",
    "z_critical = stats.norm.ppf(1-alpha/2)\n",
    "print(f'Critical z-value = {z_critical:.16f}\\n')"
   ]
  },
  {
   "cell_type": "markdown",
   "metadata": {
    "id": "CG11QU36_0Z4"
   },
   "source": [
    "#### **2. Z-statistic**:"
   ]
  },
  {
   "cell_type": "markdown",
   "metadata": {
    "id": "j08I-K_18Cb3"
   },
   "source": [
    "#### **2.1 -** The **test statistic is** a **z-score defined** by the **following equation**:\n",
    "\n"
   ]
  },
  {
   "cell_type": "code",
   "execution_count": 18,
   "metadata": {
    "colab": {
     "base_uri": "https://localhost:8080/"
    },
    "id": "hoguMlR8lWlD",
    "outputId": "54e90e85-6e2d-40ef-e717-b56077bb74f8"
   },
   "outputs": [
    {
     "name": "stdout",
     "output_type": "stream",
     "text": [
      "z-score = 1.3109241984234394\n"
     ]
    }
   ],
   "source": [
    "z_score = abs((prop_t - prop_c)/np.sqrt(p*(1-p)*(1/num_treat + 1/num_control)))\n",
    "print(f'z-score = {z_score:.16f}')"
   ]
  },
  {
   "cell_type": "code",
   "execution_count": 19,
   "metadata": {
    "colab": {
     "base_uri": "https://localhost:8080/"
    },
    "id": "DoCBZ-ukeD0-",
    "outputId": "808984c0-d2c9-49bb-f65d-f3ab9ece7b8e"
   },
   "outputs": [
    {
     "name": "stdout",
     "output_type": "stream",
     "text": [
      "There is not statistical evidence to reject null hypothesis.\n"
     ]
    }
   ],
   "source": [
    "if z_score > z_critical:\n",
    "    print('There is statistical evidence to reject null hypothesis.')\n",
    "else:\n",
    "    print ('There is not statistical evidence to reject null hypothesis.')"
   ]
  },
  {
   "cell_type": "markdown",
   "metadata": {
    "id": "qWuTpwQD8oK9"
   },
   "source": [
    "#### **2.2 - Make use** of    **`proportions_ztest() function`** from **statsmodels library** to find **z-statistic**:"
   ]
  },
  {
   "cell_type": "code",
   "execution_count": 20,
   "metadata": {
    "colab": {
     "base_uri": "https://localhost:8080/"
    },
    "id": "t2hT7Rf3j9BZ",
    "outputId": "3772f4b5-3a0d-4815-8045-db993fe5c4a8"
   },
   "outputs": [
    {
     "name": "stdout",
     "output_type": "stream",
     "text": [
      "z-statistic: 1.3109241984234394\n",
      "\n",
      "p-value: 0.18988337448195103\n",
      "\n",
      "There is not statistical evidence to reject null hypothesis.\n"
     ]
    }
   ],
   "source": [
    "from statsmodels.stats.proportion import proportions_ztest\n",
    "\n",
    "control_results = df[df['group'] == 'control']['converted']\n",
    "treatment_results = df[df['group'] == 'treatment']['converted']\n",
    "n_control = control_results.count()\n",
    "n_treatment = treatment_results.count()\n",
    "successes = [control_results.sum(), treatment_results.sum()]\n",
    "n_observations = [n_control, n_treatment]\n",
    "\n",
    "z_statistic, p_value = proportions_ztest(count=successes, nobs=n_observations, alternative='two-sided')\n",
    "\n",
    "print(f'z-statistic: {z_statistic:.16f}\\n')\n",
    "print(f'p-value: {p_value:.17f}\\n')\n",
    "\n",
    "if p_value < alpha:\n",
    "    print('There is statistical evidence to reject null hypothesis.')\n",
    "else:\n",
    "    print ('There is not statistical evidence to reject null hypothesis.')\n"
   ]
  },
  {
   "cell_type": "markdown",
   "metadata": {},
   "source": [
    "- - - "
   ]
  },
  {
   "cell_type": "markdown",
   "metadata": {
    "id": "TCrjTTvYB80k"
   },
   "source": [
    "###  &rarr; **Conclusion**:"
   ]
  },
  {
   "cell_type": "markdown",
   "metadata": {
    "id": "kkXzFoQ7kujv"
   },
   "source": [
    "- **There is no statistical evidence** that the **populations proportions of conversion** (control and treatment populations) **are different**."
   ]
  }
 ],
 "metadata": {
  "accelerator": "TPU",
  "colab": {
   "collapsed_sections": [],
   "name": "Copy of A/B Testing.ipynb",
   "provenance": []
  },
  "kernelspec": {
   "display_name": "conda_python3",
   "language": "python",
   "name": "conda_python3"
  },
  "language_info": {
   "codemirror_mode": {
    "name": "ipython",
    "version": 3
   },
   "file_extension": ".py",
   "mimetype": "text/x-python",
   "name": "python",
   "nbconvert_exporter": "python",
   "pygments_lexer": "ipython3",
   "version": "3.6.13"
  }
 },
 "nbformat": 4,
 "nbformat_minor": 4
}
